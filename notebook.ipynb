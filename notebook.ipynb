{
 "cells": [
  {
   "cell_type": "code",
   "execution_count": 38,
   "metadata": {},
   "outputs": [],
   "source": [
    "# FIRST PAGE ONLY logo bawah\n",
    "import fitz \n",
    "from PIL import Image\n",
    "\n",
    "def add_image_to_first_page(pdf_path, image_path, output_path, coordinates):\n",
    "    pdf_document = fitz.open(pdf_path)\n",
    "    image = Image.open(image_path)\n",
    "    \n",
    "    temp_image_path = \"temp_image.png\"\n",
    "    image.save(temp_image_path)\n",
    "    page = pdf_document[0]\n",
    "    x, y = coordinates\n",
    "    image_rect = fitz.Rect(x, y, x + 400, y + 200)\n",
    "    page.insert_image(image_rect, filename=temp_image_path)\n",
    "    pdf_document.save(output_path)\n",
    "\n",
    "pdf_path = \"1.pdf\" # change with your pdf file\n",
    "image_path = \"ig.png\" # change with your image\n",
    "output_path = \"2.pdf\"\n",
    "coordinates = (110, 620) # image coordinate\n",
    "\n",
    "add_image_to_first_page(pdf_path, image_path, output_path, coordinates)\n"
   ]
  },
  {
   "cell_type": "code",
   "execution_count": 39,
   "metadata": {},
   "outputs": [],
   "source": [
    "# FIRST PAGE ONLY logo atas\n",
    "import fitz \n",
    "from PIL import Image\n",
    "\n",
    "def add_image_to_first_page(pdf_path, image_path, output_path, coordinates):\n",
    "    pdf_document = fitz.open(pdf_path)\n",
    "    image = Image.open(image_path)\n",
    "    \n",
    "    temp_image_path = \"temp_image.png\"\n",
    "    image.save(temp_image_path)\n",
    "    page = pdf_document[0]\n",
    "    x, y = coordinates\n",
    "    image_rect = fitz.Rect(x, y, x + 140, y + 50)\n",
    "    page.insert_image(image_rect, filename=temp_image_path)\n",
    "    pdf_document.save(output_path)\n",
    "\n",
    "pdf_path = \"2.pdf\" # change with your pdf file\n",
    "image_path = \"white.png\" # change with your image\n",
    "output_path = \"3.pdf\"\n",
    "coordinates = (90, 350) # image coordinate\n",
    "\n",
    "add_image_to_first_page(pdf_path, image_path, output_path, coordinates)\n"
   ]
  },
  {
   "cell_type": "code",
   "execution_count": 40,
   "metadata": {},
   "outputs": [],
   "source": [
    "# ALL PAGE\n",
    "import fitz\n",
    "from PIL import Image\n",
    "\n",
    "def add_image_to_pdf(pdf_path, image_path, output_path, coordinates):\n",
    "    pdf_document = fitz.open(pdf_path)\n",
    "    image = Image.open(image_path)\n",
    "    \n",
    "    temp_image_path = \"temp_image.png\"\n",
    "    image.save(temp_image_path)\n",
    "\n",
    "    for page_number in range(len(pdf_document)):\n",
    "        page = pdf_document[page_number]\n",
    "        x, y = coordinates\n",
    "        image_rect = fitz.Rect(x, y, x + 160, y + 40)\n",
    "        page.insert_image(image_rect, filename=temp_image_path)\n",
    "\n",
    "    pdf_document.save(output_path)\n",
    "\n",
    "pdf_path = \"3.pdf\" # change with your pdf file\n",
    "image_path = \"logo.png\" # change with your image\n",
    "output_path = \"4.pdf\"\n",
    "coordinates = (342, 780) # image coordinate\n",
    "\n",
    "add_image_to_pdf(pdf_path, image_path, output_path, coordinates)\n"
   ]
  }
 ],
 "metadata": {
  "kernelspec": {
   "display_name": "base",
   "language": "python",
   "name": "python3"
  },
  "language_info": {
   "codemirror_mode": {
    "name": "ipython",
    "version": 3
   },
   "file_extension": ".py",
   "mimetype": "text/x-python",
   "name": "python",
   "nbconvert_exporter": "python",
   "pygments_lexer": "ipython3",
   "version": "3.12.3"
  }
 },
 "nbformat": 4,
 "nbformat_minor": 2
}
