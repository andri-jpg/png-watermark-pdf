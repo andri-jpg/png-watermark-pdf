{
 "cells": [
  {
   "cell_type": "code",
   "execution_count": 9,
   "metadata": {},
   "outputs": [],
   "source": [
    "import fitz\n",
    "from PIL import Image\n",
    "\n",
    "def add_image_to_pdf(pdf_path, image_path, output_path, coordinates):\n",
    "    pdf_document = fitz.open(pdf_path)\n",
    "    image = Image.open(image_path)\n",
    "    \n",
    "    temp_image_path = \"temp_image.png\"\n",
    "    image.save(temp_image_path)\n",
    "\n",
    "    for page_number in range(len(pdf_document)):\n",
    "        page = pdf_document[page_number]\n",
    "        x, y = coordinates\n",
    "        image_rect = fitz.Rect(x, y, x + image.width, y + image.height)\n",
    "        page.insert_image(image_rect, filename=temp_image_path)\n",
    "\n",
    "    pdf_document.save(output_path)\n",
    "\n",
    "pdf_path = \"input.pdf\" # change with your pdf file\n",
    "image_path = \"image.png\" # change with your image\n",
    "output_path = \"output.pdf\"\n",
    "coordinates = (400, 750) # image coordinate\n",
    "\n",
    "add_image_to_pdf(pdf_path, image_path, output_path, coordinates)\n"
   ]
  }
 ],
 "metadata": {
  "kernelspec": {
   "display_name": "base",
   "language": "python",
   "name": "python3"
  },
  "language_info": {
   "codemirror_mode": {
    "name": "ipython",
    "version": 3
   },
   "file_extension": ".py",
   "mimetype": "text/x-python",
   "name": "python",
   "nbconvert_exporter": "python",
   "pygments_lexer": "ipython3",
   "version": "3.12.3"
  }
 },
 "nbformat": 4,
 "nbformat_minor": 2
}
